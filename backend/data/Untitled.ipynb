{
 "cells": [
  {
   "cell_type": "code",
   "execution_count": 1,
   "id": "e787ce9a-db05-4787-9c44-66b16bb26943",
   "metadata": {},
   "outputs": [],
   "source": [
    "import pandas as pd"
   ]
  },
  {
   "cell_type": "code",
   "execution_count": 2,
   "id": "c66fe95c-b929-4243-ada7-c883faf0c50f",
   "metadata": {},
   "outputs": [],
   "source": [
    "df1 = pd.read_csv(\"leetcode_problems_and_companies.csv\")"
   ]
  },
  {
   "cell_type": "code",
   "execution_count": 3,
   "id": "8250496e-4130-4ab7-b855-5e8e27268308",
   "metadata": {},
   "outputs": [
    {
     "name": "stdout",
     "output_type": "stream",
     "text": [
      "<class 'pandas.core.frame.DataFrame'>\n",
      "RangeIndex: 3864 entries, 0 to 3863\n",
      "Data columns (total 4 columns):\n",
      " #   Column        Non-Null Count  Dtype \n",
      "---  ------        --------------  ----- \n",
      " 0   problem_link  3864 non-null   object\n",
      " 1   problem_name  3864 non-null   object\n",
      " 2   company_name  3864 non-null   object\n",
      " 3   num_occur     3864 non-null   object\n",
      "dtypes: object(4)\n",
      "memory usage: 120.9+ KB\n"
     ]
    }
   ],
   "source": [
    "df1.info()"
   ]
  },
  {
   "cell_type": "code",
   "execution_count": 8,
   "id": "60ffacc4-6592-4cc7-af9f-bb1a4e380d37",
   "metadata": {},
   "outputs": [
    {
     "data": {
      "text/html": [
       "<div>\n",
       "<style scoped>\n",
       "    .dataframe tbody tr th:only-of-type {\n",
       "        vertical-align: middle;\n",
       "    }\n",
       "\n",
       "    .dataframe tbody tr th {\n",
       "        vertical-align: top;\n",
       "    }\n",
       "\n",
       "    .dataframe thead th {\n",
       "        text-align: right;\n",
       "    }\n",
       "</style>\n",
       "<table border=\"1\" class=\"dataframe\">\n",
       "  <thead>\n",
       "    <tr style=\"text-align: right;\">\n",
       "      <th></th>\n",
       "      <th>problem_link</th>\n",
       "      <th>problem_name</th>\n",
       "      <th>company_name</th>\n",
       "      <th>num_occur</th>\n",
       "    </tr>\n",
       "  </thead>\n",
       "  <tbody>\n",
       "    <tr>\n",
       "      <th>0</th>\n",
       "      <td>https://leetcode.com/problems/minimum-consecut...</td>\n",
       "      <td>Minimum Consecutive Cards to Pick Up</td>\n",
       "      <td>Google</td>\n",
       "      <td>1</td>\n",
       "    </tr>\n",
       "    <tr>\n",
       "      <th>1</th>\n",
       "      <td>https://leetcode.com/problems/remove-digit-fro...</td>\n",
       "      <td>Remove Digit From Number to Maximize Result</td>\n",
       "      <td>Microsoft</td>\n",
       "      <td>2</td>\n",
       "    </tr>\n",
       "    <tr>\n",
       "      <th>2</th>\n",
       "      <td>https://leetcode.com/problems/minimum-average-...</td>\n",
       "      <td>Minimum Average Difference</td>\n",
       "      <td>Amazon</td>\n",
       "      <td>1</td>\n",
       "    </tr>\n",
       "    <tr>\n",
       "      <th>3</th>\n",
       "      <td>https://leetcode.com/problems/count-prefixes-o...</td>\n",
       "      <td>Count Prefixes of a Given String</td>\n",
       "      <td>Google</td>\n",
       "      <td>1</td>\n",
       "    </tr>\n",
       "    <tr>\n",
       "      <th>4</th>\n",
       "      <td>https://leetcode.com/problems/intersection-of-...</td>\n",
       "      <td>Intersection of Multiple Arrays</td>\n",
       "      <td>Uber</td>\n",
       "      <td>1</td>\n",
       "    </tr>\n",
       "  </tbody>\n",
       "</table>\n",
       "</div>"
      ],
      "text/plain": [
       "                                        problem_link  \\\n",
       "0  https://leetcode.com/problems/minimum-consecut...   \n",
       "1  https://leetcode.com/problems/remove-digit-fro...   \n",
       "2  https://leetcode.com/problems/minimum-average-...   \n",
       "3  https://leetcode.com/problems/count-prefixes-o...   \n",
       "4  https://leetcode.com/problems/intersection-of-...   \n",
       "\n",
       "                                  problem_name company_name num_occur  \n",
       "0         Minimum Consecutive Cards to Pick Up       Google         1  \n",
       "1  Remove Digit From Number to Maximize Result    Microsoft         2  \n",
       "2                   Minimum Average Difference       Amazon         1  \n",
       "3             Count Prefixes of a Given String       Google         1  \n",
       "4              Intersection of Multiple Arrays         Uber         1  "
      ]
     },
     "execution_count": 8,
     "metadata": {},
     "output_type": "execute_result"
    }
   ],
   "source": [
    "df1.head()"
   ]
  },
  {
   "cell_type": "code",
   "execution_count": 9,
   "id": "2b6723fb-db11-45de-9589-57af90a7c1f4",
   "metadata": {},
   "outputs": [
    {
     "data": {
      "text/html": [
       "<div>\n",
       "<style scoped>\n",
       "    .dataframe tbody tr th:only-of-type {\n",
       "        vertical-align: middle;\n",
       "    }\n",
       "\n",
       "    .dataframe tbody tr th {\n",
       "        vertical-align: top;\n",
       "    }\n",
       "\n",
       "    .dataframe thead th {\n",
       "        text-align: right;\n",
       "    }\n",
       "</style>\n",
       "<table border=\"1\" class=\"dataframe\">\n",
       "  <thead>\n",
       "    <tr style=\"text-align: right;\">\n",
       "      <th></th>\n",
       "      <th>problem_link</th>\n",
       "      <th>problem_name</th>\n",
       "      <th>company_name</th>\n",
       "      <th>num_occur</th>\n",
       "    </tr>\n",
       "  </thead>\n",
       "  <tbody>\n",
       "    <tr>\n",
       "      <th>count</th>\n",
       "      <td>3864</td>\n",
       "      <td>3864</td>\n",
       "      <td>3864</td>\n",
       "      <td>3864</td>\n",
       "    </tr>\n",
       "    <tr>\n",
       "      <th>unique</th>\n",
       "      <td>1263</td>\n",
       "      <td>1263</td>\n",
       "      <td>187</td>\n",
       "      <td>95</td>\n",
       "    </tr>\n",
       "    <tr>\n",
       "      <th>top</th>\n",
       "      <td>https://leetcode.com/problems/two-sum/</td>\n",
       "      <td>Two Sum</td>\n",
       "      <td>Amazon</td>\n",
       "      <td>2</td>\n",
       "    </tr>\n",
       "    <tr>\n",
       "      <th>freq</th>\n",
       "      <td>30</td>\n",
       "      <td>30</td>\n",
       "      <td>592</td>\n",
       "      <td>1408</td>\n",
       "    </tr>\n",
       "  </tbody>\n",
       "</table>\n",
       "</div>"
      ],
      "text/plain": [
       "                                  problem_link problem_name company_name  \\\n",
       "count                                     3864         3864         3864   \n",
       "unique                                    1263         1263          187   \n",
       "top     https://leetcode.com/problems/two-sum/      Two Sum       Amazon   \n",
       "freq                                        30           30          592   \n",
       "\n",
       "       num_occur  \n",
       "count       3864  \n",
       "unique        95  \n",
       "top            2  \n",
       "freq        1408  "
      ]
     },
     "execution_count": 9,
     "metadata": {},
     "output_type": "execute_result"
    }
   ],
   "source": [
    "df1.describe()"
   ]
  },
  {
   "cell_type": "code",
   "execution_count": null,
   "id": "06277221-c508-4d68-8a74-b65132982136",
   "metadata": {},
   "outputs": [],
   "source": []
  },
  {
   "cell_type": "code",
   "execution_count": null,
   "id": "fe6911f2-6fa9-49a6-b52f-2c142c18f8bc",
   "metadata": {},
   "outputs": [],
   "source": []
  },
  {
   "cell_type": "code",
   "execution_count": 6,
   "id": "a064c935-f430-40d4-995e-57176ed90c20",
   "metadata": {},
   "outputs": [],
   "source": [
    "df2  = pd.read_csv(\"leetcode_problems.csv\")"
   ]
  },
  {
   "cell_type": "code",
   "execution_count": 7,
   "id": "716d4abe-de25-41cf-bcbc-103a3af69193",
   "metadata": {},
   "outputs": [
    {
     "data": {
      "text/html": [
       "<div>\n",
       "<style scoped>\n",
       "    .dataframe tbody tr th:only-of-type {\n",
       "        vertical-align: middle;\n",
       "    }\n",
       "\n",
       "    .dataframe tbody tr th {\n",
       "        vertical-align: top;\n",
       "    }\n",
       "\n",
       "    .dataframe thead th {\n",
       "        text-align: right;\n",
       "    }\n",
       "</style>\n",
       "<table border=\"1\" class=\"dataframe\">\n",
       "  <thead>\n",
       "    <tr style=\"text-align: right;\">\n",
       "      <th></th>\n",
       "      <th>name</th>\n",
       "      <th>link</th>\n",
       "      <th>difficulty</th>\n",
       "      <th>solution</th>\n",
       "    </tr>\n",
       "  </thead>\n",
       "  <tbody>\n",
       "    <tr>\n",
       "      <th>0</th>\n",
       "      <td>Largest 3-Same-Digit Number in String</td>\n",
       "      <td>https://leetcode.com/problems/largest-3-same-d...</td>\n",
       "      <td>Easy                                          ...</td>\n",
       "      <td>[Java](https://github.com/fishercoder1534/Leet...</td>\n",
       "    </tr>\n",
       "    <tr>\n",
       "      <th>1</th>\n",
       "      <td>Minimum Consecutive Cards to Pick Up</td>\n",
       "      <td>https://leetcode.com/problems/minimum-consecut...</td>\n",
       "      <td>Medium                                        ...</td>\n",
       "      <td>[Java](https://github.com/fishercoder1534/Leet...</td>\n",
       "    </tr>\n",
       "    <tr>\n",
       "      <th>2</th>\n",
       "      <td>Remove Digit From Number to Maximize Result</td>\n",
       "      <td>https://leetcode.com/problems/remove-digit-fro...</td>\n",
       "      <td>Easy                                          ...</td>\n",
       "      <td>[Java](https://github.com/fishercoder1534/Leet...</td>\n",
       "    </tr>\n",
       "    <tr>\n",
       "      <th>3</th>\n",
       "      <td>Minimum Average Difference</td>\n",
       "      <td>https://leetcode.com/problems/minimum-average-...</td>\n",
       "      <td>Medium                                        ...</td>\n",
       "      <td>[Java](https://github.com/fishercoder1534/Leet...</td>\n",
       "    </tr>\n",
       "    <tr>\n",
       "      <th>4</th>\n",
       "      <td>Count Prefixes of a Given String</td>\n",
       "      <td>https://leetcode.com/problems/count-prefixes-o...</td>\n",
       "      <td>Easy                                          ...</td>\n",
       "      <td>[Java](https://github.com/fishercoder1534/Leet...</td>\n",
       "    </tr>\n",
       "  </tbody>\n",
       "</table>\n",
       "</div>"
      ],
      "text/plain": [
       "                                          name  \\\n",
       "0        Largest 3-Same-Digit Number in String   \n",
       "1         Minimum Consecutive Cards to Pick Up   \n",
       "2  Remove Digit From Number to Maximize Result   \n",
       "3                   Minimum Average Difference   \n",
       "4             Count Prefixes of a Given String   \n",
       "\n",
       "                                                link  \\\n",
       "0  https://leetcode.com/problems/largest-3-same-d...   \n",
       "1  https://leetcode.com/problems/minimum-consecut...   \n",
       "2  https://leetcode.com/problems/remove-digit-fro...   \n",
       "3  https://leetcode.com/problems/minimum-average-...   \n",
       "4  https://leetcode.com/problems/count-prefixes-o...   \n",
       "\n",
       "                                          difficulty  \\\n",
       "0  Easy                                          ...   \n",
       "1  Medium                                        ...   \n",
       "2  Easy                                          ...   \n",
       "3  Medium                                        ...   \n",
       "4  Easy                                          ...   \n",
       "\n",
       "                                            solution  \n",
       "0  [Java](https://github.com/fishercoder1534/Leet...  \n",
       "1  [Java](https://github.com/fishercoder1534/Leet...  \n",
       "2  [Java](https://github.com/fishercoder1534/Leet...  \n",
       "3  [Java](https://github.com/fishercoder1534/Leet...  \n",
       "4  [Java](https://github.com/fishercoder1534/Leet...  "
      ]
     },
     "execution_count": 7,
     "metadata": {},
     "output_type": "execute_result"
    }
   ],
   "source": [
    "df2.head()"
   ]
  },
  {
   "cell_type": "code",
   "execution_count": 10,
   "id": "2db3b89e-a5d2-4e67-89bf-6998de47b456",
   "metadata": {},
   "outputs": [
    {
     "name": "stdout",
     "output_type": "stream",
     "text": [
      "<class 'pandas.core.frame.DataFrame'>\n",
      "RangeIndex: 1338 entries, 0 to 1337\n",
      "Data columns (total 4 columns):\n",
      " #   Column      Non-Null Count  Dtype \n",
      "---  ------      --------------  ----- \n",
      " 0   name        1338 non-null   object\n",
      " 1   link        1338 non-null   object\n",
      " 2   difficulty  1328 non-null   object\n",
      " 3   solution    1338 non-null   object\n",
      "dtypes: object(4)\n",
      "memory usage: 41.9+ KB\n"
     ]
    }
   ],
   "source": [
    "df2.info()"
   ]
  },
  {
   "cell_type": "code",
   "execution_count": 11,
   "id": "5b41863b-95c8-4188-88dc-c799f1d050d8",
   "metadata": {},
   "outputs": [
    {
     "data": {
      "text/html": [
       "<div>\n",
       "<style scoped>\n",
       "    .dataframe tbody tr th:only-of-type {\n",
       "        vertical-align: middle;\n",
       "    }\n",
       "\n",
       "    .dataframe tbody tr th {\n",
       "        vertical-align: top;\n",
       "    }\n",
       "\n",
       "    .dataframe thead th {\n",
       "        text-align: right;\n",
       "    }\n",
       "</style>\n",
       "<table border=\"1\" class=\"dataframe\">\n",
       "  <thead>\n",
       "    <tr style=\"text-align: right;\">\n",
       "      <th></th>\n",
       "      <th>name</th>\n",
       "      <th>link</th>\n",
       "      <th>difficulty</th>\n",
       "      <th>solution</th>\n",
       "    </tr>\n",
       "  </thead>\n",
       "  <tbody>\n",
       "    <tr>\n",
       "      <th>count</th>\n",
       "      <td>1338</td>\n",
       "      <td>1338</td>\n",
       "      <td>1328</td>\n",
       "      <td>1338</td>\n",
       "    </tr>\n",
       "    <tr>\n",
       "      <th>unique</th>\n",
       "      <td>1336</td>\n",
       "      <td>1336</td>\n",
       "      <td>10</td>\n",
       "      <td>1333</td>\n",
       "    </tr>\n",
       "    <tr>\n",
       "      <th>top</th>\n",
       "      <td>Remove Palindromic Subsequences</td>\n",
       "      <td>https://leetcode.com/problems/remove-palindrom...</td>\n",
       "      <td>Medium</td>\n",
       "      <td>[Solution](https://github.com/fishercoder1534/...</td>\n",
       "    </tr>\n",
       "    <tr>\n",
       "      <th>freq</th>\n",
       "      <td>2</td>\n",
       "      <td>2</td>\n",
       "      <td>373</td>\n",
       "      <td>2</td>\n",
       "    </tr>\n",
       "  </tbody>\n",
       "</table>\n",
       "</div>"
      ],
      "text/plain": [
       "                                   name  \\\n",
       "count                              1338   \n",
       "unique                             1336   \n",
       "top     Remove Palindromic Subsequences   \n",
       "freq                                  2   \n",
       "\n",
       "                                                     link difficulty  \\\n",
       "count                                                1338       1328   \n",
       "unique                                               1336         10   \n",
       "top     https://leetcode.com/problems/remove-palindrom...     Medium   \n",
       "freq                                                    2        373   \n",
       "\n",
       "                                                 solution  \n",
       "count                                                1338  \n",
       "unique                                               1333  \n",
       "top     [Solution](https://github.com/fishercoder1534/...  \n",
       "freq                                                    2  "
      ]
     },
     "execution_count": 11,
     "metadata": {},
     "output_type": "execute_result"
    }
   ],
   "source": [
    "df2.describe()"
   ]
  },
  {
   "cell_type": "code",
   "execution_count": null,
   "id": "26e10a6a-818a-4fca-b0d8-cf073133920b",
   "metadata": {},
   "outputs": [],
   "source": []
  },
  {
   "cell_type": "code",
   "execution_count": null,
   "id": "d095382f-2341-4b9a-ae3f-16603b646c39",
   "metadata": {},
   "outputs": [],
   "source": []
  },
  {
   "cell_type": "code",
   "execution_count": null,
   "id": "5f4c2eb1-e05c-4719-80c6-e043ae07f993",
   "metadata": {},
   "outputs": [],
   "source": [
    "df3 = pd.read_csv(\"l\")"
   ]
  }
 ],
 "metadata": {
  "kernelspec": {
   "display_name": "Python 3 (ipykernel)",
   "language": "python",
   "name": "python3"
  },
  "language_info": {
   "codemirror_mode": {
    "name": "ipython",
    "version": 3
   },
   "file_extension": ".py",
   "mimetype": "text/x-python",
   "name": "python",
   "nbconvert_exporter": "python",
   "pygments_lexer": "ipython3",
   "version": "3.12.0"
  }
 },
 "nbformat": 4,
 "nbformat_minor": 5
}
